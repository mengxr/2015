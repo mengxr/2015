{
 "cells": [
  {
   "cell_type": "code",
   "execution_count": null,
   "metadata": {
    "collapsed": true
   },
   "outputs": [],
   "source": [
    "bin = Binarizer(inputCol = \"rating\", outputCol = \"label\", threshold)\n",
    "tok = Tokenizer(inputCol = \"review\")\n",
    "hashTF = HashingTF(inputCol=tok.getOutputCol(), numFeatures=10000, outputCol=\"features\")\n",
    "lr = LogisticRegression(maxIter=10, regParam = 0.0001, elasticNetParam = 1.0)\n",
    "pipeline = Pipeline(stages = [bin, tok, hashTF, lr])"
   ]
  }
 ],
 "metadata": {
  "kernelspec": {
   "display_name": "Python 2",
   "language": "python",
   "name": "python2"
  },
  "language_info": {
   "codemirror_mode": {
    "name": "ipython",
    "version": 2
   },
   "file_extension": ".py",
   "mimetype": "text/x-python",
   "name": "python",
   "nbconvert_exporter": "python",
   "pygments_lexer": "ipython2",
   "version": "2.7.6"
  }
 },
 "nbformat": 4,
 "nbformat_minor": 0
}
